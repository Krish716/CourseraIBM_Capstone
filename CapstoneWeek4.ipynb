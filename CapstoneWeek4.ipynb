{
    "cells": [
        {
            "metadata": {},
            "cell_type": "markdown",
            "source": "   <h1><center> LOCATIONS OF GROCERIES STORES AND PHARMACY STORES</center></h1>\n"
        },
        {
            "metadata": {
                "collapsed": true
            },
            "cell_type": "markdown",
            "source": "<h3> INTRODUCTION</h3>\n<p>\nThe lock down due to COVID-19 has really became a primary problem for people. People are finding difficulties for grocery stores and pharmacy stores which are in-active.</p>\nThis project fetches the list of grocery stores and pharmacy stores in Toronto Area. Therefore it might be helpul for an individual who is in need of groceries and medicines. With the purpose in mind, this project is designed to find all the locations of grocery stores and pharmacy stores in and neighbourhood of Toronto."
        },
        {
            "metadata": {},
            "cell_type": "markdown",
            "source": "<h3> BUSINESS PROBLEM</h3>\n<p>\nDuring the lock down, the need of groceries and medicines has become primary concern for people.     \n</p>\n<p>The main objective is to find ideal spots in the city for the people looking for grocery stores and pharmacy stores .</p>\n\n<h3> DATA</h3>\n\nThe data needed for this project: \n1. List of neighborhoods in Toronto, Canada.\n2. Latitude and Longitude of these neighborhoods. (It is provided in capstone project week 3 as .csv file) \n3. Venue data related to Groceries and pharmacy stores. \n\n\nData extraction:\n1. Scrapping of Toronto neighborhoods via Wikipedia. (https://en.wikipedia.org/wiki/List_of_postal_codes_of_Canada:_M)\n2. Getting Latitude and Longitude data of these neighborhoods. (http://cocl.us/Geospatial_data)\n3. Using Foursquare API to get venue data related to these neighborhoods.\n"
        }
    ],
    "metadata": {
        "kernelspec": {
            "name": "python3",
            "display_name": "Python 3.6",
            "language": "python"
        },
        "language_info": {
            "name": "python",
            "version": "3.6.9",
            "mimetype": "text/x-python",
            "codemirror_mode": {
                "name": "ipython",
                "version": 3
            },
            "pygments_lexer": "ipython3",
            "nbconvert_exporter": "python",
            "file_extension": ".py"
        }
    },
    "nbformat": 4,
    "nbformat_minor": 1
}